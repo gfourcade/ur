{
 "cells": [
  {
   "cell_type": "code",
   "execution_count": 47,
   "metadata": {
    "colab": {},
    "colab_type": "code",
    "id": "hrcN4-WhjtuU"
   },
   "outputs": [
    {
     "name": "stdout",
     "output_type": "stream",
     "text": [
      "The autoreload extension is already loaded. To reload it, use:\n",
      "  %reload_ext autoreload\n"
     ]
    }
   ],
   "source": [
    "import random\n",
    "import itertools\n",
    "import array\n",
    "import sys\n",
    "import pandas as pd\n",
    "import matplotlib.pyplot as plt\n",
    "import players\n",
    "import ur\n",
    "from multiprocessing import Process\n",
    "from IPython.display import clear_output\n",
    "%load_ext autoreload\n",
    "%autoreload 2"
   ]
  },
  {
   "cell_type": "code",
   "execution_count": 2,
   "metadata": {
    "colab": {},
    "colab_type": "code",
    "id": "3Yqe4ePUalGN"
   },
   "outputs": [
    {
     "name": "stdout",
     "output_type": "stream",
     "text": [
      "WARNING:tensorflow:From /home/gfourcade/.local/lib/python3.6/site-packages/tensorflow/python/framework/op_def_library.py:263: colocate_with (from tensorflow.python.framework.ops) is deprecated and will be removed in a future version.\n",
      "Instructions for updating:\n",
      "Colocations handled automatically by placer.\n"
     ]
    }
   ],
   "source": [
    "states = {'test':0.1}\n",
    "qp1 = players.DeepQPlayer(0.5)\n",
    "\n",
    "qp2 = players.QPlayer(0.5, states=states)\n",
    "mxp = players.MaxPlayer(name='Max')\n",
    "rnp = players.RandomPlayer(name='Random')\n",
    "amp = players.AggressiveMaxPlayer(name='AMax')\n",
    "rop = players.RosettaLoverPlayer(name='Rosetta')\n",
    "\n",
    "m_res = []\n",
    "r_res = []\n",
    "am_res = []\n",
    "rl_res = []\n",
    "#qp_res = []\n",
    "\n",
    "enemies = {'max':mxp,\n",
    "           'rnd':rnp,\n",
    "           'agg':amp,\n",
    "           'ros':rop}\n",
    "p_res = {'max':m_res,\n",
    "         'rnd':r_res,\n",
    "         'agg':am_res,\n",
    "         'ros':rl_res}"
   ]
  },
  {
   "cell_type": "code",
   "execution_count": null,
   "metadata": {
    "colab": {
     "base_uri": "https://localhost:8080/",
     "height": 347
    },
    "colab_type": "code",
    "id": "6-PJCs-9jyWR",
    "outputId": "edd82140-5121-4322-c381-6ff47fdf0825"
   },
   "outputs": [
    {
     "name": "stdout",
     "output_type": "stream",
     "text": [
      "ended learning 1 / 300\n",
      "ended learning 16 / 300\n",
      "ended learning 31 / 300\n",
      "ended learning 46 / 300\n",
      "ended learning 61 / 300\n",
      "ended learning 76 / 300\n",
      "ended learning 91 / 300\n",
      "ended learning 106 / 300\n"
     ]
    }
   ],
   "source": [
    "ur.train(qp1, enemies, p_res, times=300)"
   ]
  },
  {
   "cell_type": "code",
   "execution_count": 53,
   "metadata": {},
   "outputs": [
    {
     "data": {
      "text/plain": [
       "0.366"
      ]
     },
     "execution_count": 53,
     "metadata": {},
     "output_type": "execute_result"
    }
   ],
   "source": [
    "ur.test_player(qp1, rnp, times=1000)"
   ]
  },
  {
   "cell_type": "code",
   "execution_count": 31,
   "metadata": {},
   "outputs": [
    {
     "name": "stderr",
     "output_type": "stream",
     "text": [
      "Using TensorFlow backend.\n"
     ]
    },
    {
     "name": "stdout",
     "output_type": "stream",
     "text": [
      "WARNING:tensorflow:From /home/gfourcade/.local/lib/python3.6/site-packages/tensorflow/python/framework/op_def_library.py:263: colocate_with (from tensorflow.python.framework.ops) is deprecated and will be removed in a future version.\n",
      "Instructions for updating:\n",
      "Colocations handled automatically by placer.\n"
     ]
    }
   ],
   "source": [
    "import keras\n",
    "from keras.models import Sequential\n",
    "from keras.layers import Dense\n",
    "\n",
    "model = Sequential()\n",
    "model.add(Dense(units=64, activation='relu', input_dim=23))\n",
    "model.add(Dense(units=6, activation='softmax'))\n",
    "model.compile(loss=keras.losses.categorical_crossentropy,\n",
    "              optimizer=keras.optimizers.SGD(lr=0.01, momentum=0.9, nesterov=True))"
   ]
  },
  {
   "cell_type": "code",
   "execution_count": 85,
   "metadata": {},
   "outputs": [
    {
     "name": "stdout",
     "output_type": "stream",
     "text": [
      "Epoch 1/5\n",
      "1/1 [==============================] - 0s 6ms/step - loss: 8.0670\n",
      "Epoch 2/5\n",
      "1/1 [==============================] - 0s 8ms/step - loss: 8.0665\n",
      "Epoch 3/5\n",
      "1/1 [==============================] - 0s 13ms/step - loss: 8.0660\n",
      "Epoch 4/5\n",
      "1/1 [==============================] - 0s 7ms/step - loss: 8.0655\n",
      "Epoch 5/5\n",
      "1/1 [==============================] - 0s 8ms/step - loss: 8.0651\n"
     ]
    },
    {
     "data": {
      "text/plain": [
       "array([[0.19983235, 0.00347814, 0.19968957, 0.19945303, 0.19911113,\n",
       "        0.19843578]], dtype=float32)"
      ]
     },
     "execution_count": 85,
     "metadata": {},
     "output_type": "execute_result"
    }
   ],
   "source": [
    "import numpy as np\n",
    "x_train = np.array([[0,0,0,0,0,0,0,0,0,0,0,0,0,0,0,0,0,0,0,0,0,0,1]])\n",
    "y_train = np.array([[1,0,1,1,1,1]])\n",
    "model.fit(x_train, y_train, epochs=5, batch_size=32)\n",
    "x_test = np.array([[0,0,0,0,0,0,0,0,0,0,0,0,0,0,0,0,0,0,0,0,0,0,1]])\n",
    "y_test = np.array([[1,0,0,0,0,0]])\n",
    "classes = model.predict(x_test, batch_size=128)\n",
    "classes"
   ]
  },
  {
   "cell_type": "code",
   "execution_count": 11,
   "metadata": {},
   "outputs": [
    {
     "data": {
      "text/plain": [
       "0.9999999850988388"
      ]
     },
     "execution_count": 11,
     "metadata": {},
     "output_type": "execute_result"
    }
   ],
   "source": []
  },
  {
   "cell_type": "code",
   "execution_count": null,
   "metadata": {
    "colab": {},
    "colab_type": "code",
    "id": "_fApN1aoQTSC"
   },
   "outputs": [],
   "source": [
    "data = {'max':m_res, 'rnd':r_res, 'agg':am_res, 'ros':rl_res, 'qp2':qp_res}\n",
    "pd.DataFrame(data).plot()\n",
    "plt.show()"
   ]
  },
  {
   "cell_type": "code",
   "execution_count": null,
   "metadata": {
    "colab": {},
    "colab_type": "code",
    "collapsed": true,
    "id": "6HUOEUTqmMR4"
   },
   "outputs": [],
   "source": [
    "l = sorted([ (qp1.states[key], key) for key in qp1.states ])\n",
    "l.reverse()\n",
    "l"
   ]
  },
  {
   "cell_type": "code",
   "execution_count": 51,
   "metadata": {
    "colab": {
     "base_uri": "https://localhost:8080/",
     "height": 5509
    },
    "colab_type": "code",
    "collapsed": true,
    "id": "iW48lyx7ORDl",
    "outputId": "e7f448ab-b35d-4df8-d3e5-1376da747445"
   },
   "outputs": [
    {
     "name": "stdout",
     "output_type": "stream",
     "text": [
      "[0, 0, 1, 0, 0, 0, 0, 0, 0, 0, 0, 0, 0, 0, 0, 0, 0, 0, 0, 0, 0, 0]\n",
      "[0, 0, 1, 0, 0, -1, 0, 0, 0, 0, 0, 0, 0, 0, 0, 0, 0, 0, 0, 0, 0, 0]\n",
      "[0, 0, 0, 0, 0, -1, 1, 0, 0, 0, 0, 0, 0, 0, 0, 0, 0, 0, 0, 0, 0, 0]\n",
      "[0, 0, 0, 0, 0, -1, 1, 0, 0, 0, 0, 0, 0, 0, 0, 0, 0, 0, 0, 0, 0, 0]\n",
      "[0, 0, 0, -1, 0, -1, 1, 0, 0, 0, 0, 0, 0, 0, 0, 0, 0, 0, 0, 0, 0, 0]\n",
      "[0, 0, 0, -1, 0, -1, 0, 0, 0, 0, 0, 1, 0, 0, 0, 0, 0, 0, 0, 0, 0, 0]\n",
      "[0, 0, 0, -1, 0, -1, 0, 0, 0, 0, 0, 1, 0, 0, 0, 0, 0, 0, 0, 0, 0, 0]\n",
      "[0, 0, 0, -1, 0, 0, 0, 0, 0, -1, 0, 1, 0, 0, 0, 0, 0, 0, 0, 0, 0, 0]\n",
      "[0, 0, 0, -1, 0, 0, 0, 0, 0, -1, 0, 0, 0, 0, 1, 0, 0, 0, 0, 0, 0, 0]\n",
      "[0, 0, 1, 0, 0, 0, 0, -1, 0, -1, 0, 0, 0, 0, 1, 0, 0, 0, 0, 0, 0, 0]\n",
      "[0, -1, 1, 0, 0, 0, 0, -1, 0, -1, 0, 0, 0, 0, 1, 0, 0, 0, 0, 0, 0, 0]\n",
      "[0, -1, 1, 0, 0, 0, 0, -1, 0, -1, 0, 0, 0, 0, 0, 0, 1, 0, 0, 0, 0, 0]\n",
      "[0, -1, 1, 0, 0, 0, 0, -1, 0, 0, 0, 0, 0, -1, 0, 0, 1, 0, 0, 0, 0, 0]\n",
      "[0, -1, 1, 0, 0, 0, 0, -1, 0, 0, 0, 0, 0, -1, 0, 0, 1, 0, 0, 0, 0, 0]\n",
      "[0, -1, 0, 0, 0, 0, 0, -1, 0, 1, 0, 0, 0, -1, 0, 0, 1, 0, 0, 0, 0, 0]\n",
      "[0, -1, 0, -1, 0, 0, 0, -1, 0, 1, 0, 0, 0, -1, 0, 0, 1, 0, 0, 0, 0, 0]\n",
      "[0, -1, 0, -1, 0, 0, 0, -1, 0, 1, 0, 0, 0, -1, 0, 0, 1, 0, 0, 0, 0, 0]\n",
      "[0, -1, 0, -1, 0, 0, 0, -1, 0, 1, 0, 0, 0, 0, 0, -1, 1, 0, 0, 0, 0, 0]\n",
      "[0, -1, 0, -1, 0, 0, 0, -1, 0, 1, 0, 0, 0, 0, 0, -1, 1, 0, 0, 0, 0, 0]\n",
      "[0, -1, 0, -1, 0, 0, 0, -1, 0, 1, 0, 0, 0, 0, 0, 0, 1, 0, 0, -1, 0, 0]\n",
      "[0, -1, 0, -1, 0, -1, 0, -1, 0, 1, 0, 0, 0, 0, 0, 0, 1, 0, 0, -1, 0, 0]\n",
      "[0, -1, 0, -1, 0, -1, 0, -1, 0, 1, 0, 0, 0, 0, 0, 0, 1, 0, 0, -1, 0, 0]\n",
      "[0, -1, 0, -1, 0, -1, 1, 0, 0, 1, -1, 0, 0, 0, 0, 0, 1, 0, 0, -1, 0, 0]\n",
      "[0, -1, 0, -1, 0, -1, 1, 0, 0, 1, -1, 0, 0, 0, 0, 0, 0, 0, 0, -1, 1, 0]\n",
      "[0, -1, 1, 0, 0, -1, 1, 0, -1, 1, -1, 0, 0, 0, 0, 0, 0, 0, 0, -1, 1, 0]\n",
      "[0, -1, 1, 0, 0, -1, 0, 0, -1, 1, 1, 0, 0, 0, 0, 0, 0, 0, 0, -1, 1, 0]\n",
      "[0, -1, 1, 0, 0, -1, 0, 0, 0, 1, 1, -1, 0, 0, 0, 0, 0, 0, 0, -1, 1, 0]\n",
      "[0, -1, 1, 0, 0, 0, 0, -1, 0, 1, 1, -1, 0, 0, 0, 0, 0, 0, 0, -1, 1, 0]\n",
      "[0, -1, 1, 0, 0, 0, 0, -1, 0, 1, 1, -1, 0, 0, 0, 0, 0, 0, 0, 0, 1, -1]\n",
      "[0, -1, 1, 0, 1, 0, 0, -1, 0, 1, 1, -1, 0, 0, 0, 0, 0, 0, 0, 0, 1, -1]\n",
      "[0, -1, 1, 0, 1, 0, 0, -1, 0, 1, 1, 0, 0, -1, 0, 0, 0, 0, 0, 0, 1, -1]\n",
      "[0, -1, 1, 0, 1, 0, 0, -1, 0, 0, 1, 1, 0, -1, 0, 0, 0, 0, 0, 0, 1, -1]\n",
      "[0, -1, 1, 0, 1, 0, 0, -1, 0, 0, 0, 1, 1, -1, 0, 0, 0, 0, 0, 0, 1, -1]\n",
      "[0, -1, 1, 0, 1, 0, 0, -1, 0, 0, 0, 1, 1, 0, 0, -1, 0, 0, 0, 0, 1, -1]\n",
      "[0, -1, 1, 0, 1, 0, 0, -1, 0, 0, 0, 1, 0, 0, 0, 1, 0, 0, 0, 0, 1, -1]\n",
      "[0, -1, 1, 0, 1, 0, 0, 0, 0, -1, 0, 1, 0, 0, 0, 1, 0, 0, 0, 0, 1, -1]\n",
      "[0, -1, 1, 0, 1, 0, 0, 0, 0, -1, 0, 0, 1, 0, 0, 1, 0, 0, 0, 0, 1, -1]\n",
      "[0, 0, 1, 0, 1, 0, 0, 0, 0, -1, 0, 0, 1, 0, 0, 1, 0, 0, 0, 0, 1, -1]\n",
      "[0, 0, 1, 0, 0, -1, 1, 0, 0, -1, 0, 0, 1, 0, 0, 1, 0, 0, 0, 0, 1, -1]\n",
      "[0, 0, 1, 0, 0, -1, 1, 0, 0, -1, 0, 0, 0, 1, 0, 1, 0, 0, 0, 0, 1, -1]\n",
      "[0, 0, 1, 0, 0, -1, 1, 0, 0, -1, 0, 0, 0, 1, 0, 1, 0, 0, 0, 0, 1, -1]\n",
      "[0, 0, 1, 0, 0, -1, 1, 0, 0, -1, 0, 0, 0, 1, 0, 0, 0, 0, 0, 0, 2, -1]\n",
      "[0, 0, 1, 0, 0, 0, 1, 0, -1, -1, 0, 0, 0, 1, 0, 0, 0, 0, 0, 0, 2, -1]\n",
      "[0, 0, 1, 0, 0, 0, 1, 0, -1, -1, 0, 0, 0, 0, 0, 0, 0, 0, 1, 0, 2, -1]\n",
      "[1, 0, 1, 0, 0, 0, 1, 0, -1, -1, 0, 0, 0, 0, 0, 0, 0, 0, 1, 0, 2, -1]\n",
      "[1, 0, 1, 0, 0, 0, 1, 0, 0, -1, -1, 0, 0, 0, 0, 0, 0, 0, 1, 0, 2, -1]\n",
      "[1, 0, 1, 0, 0, 0, 0, 0, 0, 1, -1, 0, 0, 0, 0, 0, 0, 0, 1, 0, 2, -1]\n",
      "[1, 0, 1, 0, 0, 0, 0, 0, 0, 1, 0, -1, 0, 0, 0, 0, 0, 0, 1, 0, 2, -1]\n",
      "[1, 0, 1, 0, 0, 0, 0, 0, 0, 1, 0, 0, 0, -1, 0, 0, 0, 0, 1, 0, 2, -1]\n",
      "[0, 0, 1, 0, 1, 0, 0, 0, 0, 1, 0, 0, 0, -1, 0, 0, 0, 0, 1, 0, 2, -1]\n",
      "[0, 0, 1, 0, 1, 0, 0, -1, 0, 1, 0, 0, 0, -1, 0, 0, 0, 0, 1, 0, 2, -1]\n",
      "[0, 0, 1, 0, 1, 0, 0, -1, 0, 1, 0, 0, 0, 0, 0, 0, 0, -1, 1, 0, 2, -1]\n",
      "[0, 0, 1, 0, 1, 0, 0, -1, 0, 0, 1, 0, 0, 0, 0, 0, 0, -1, 1, 0, 2, -1]\n",
      "[0, -1, 1, 0, 1, 0, 0, -1, 0, 0, 1, 0, 0, 0, 0, 0, 0, -1, 1, 0, 2, -1]\n",
      "[0, -1, 1, 0, 1, 0, 0, -1, 0, 0, 0, 1, 0, 0, 0, 0, 0, -1, 1, 0, 2, -1]\n",
      "[0, -1, 1, 0, 0, 0, 0, -1, 1, 0, 0, 1, 0, 0, 0, 0, 0, -1, 1, 0, 2, -1]\n",
      "[0, -1, 1, 0, 0, 0, 0, -1, 1, 0, 0, 1, 0, 0, 0, 0, 0, 0, 1, 0, 2, -1]\n",
      "[0, -1, 1, 0, 0, 0, 0, -1, 1, 0, 0, 1, 0, 0, 0, 0, 0, 0, 1, 0, 2, -1]\n",
      "[0, -1, 1, 0, 0, 0, 0, -1, 0, 1, 0, 1, 0, 0, 0, 0, 0, 0, 1, 0, 2, -1]\n",
      "[0, 0, 1, 0, 0, -1, 0, -1, 0, 1, 0, 1, 0, 0, 0, 0, 0, 0, 1, 0, 2, -1]\n",
      "[0, 0, 0, -1, 0, -1, 0, -1, 0, 1, 0, 1, 0, 0, 0, 0, 0, 0, 1, 0, 2, -1]\n",
      "[0, 0, 0, -1, 0, -1, 0, -1, 0, 1, 0, 0, 0, 1, 0, 0, 0, 0, 1, 0, 2, -1]\n",
      "[0, 0, 0, -1, 0, 0, 0, -1, -1, 1, 0, 0, 0, 1, 0, 0, 0, 0, 1, 0, 2, -1]\n",
      "[0, 0, 0, -1, 0, 0, 0, -1, -1, 0, 0, 1, 0, 1, 0, 0, 0, 0, 1, 0, 2, -1]\n",
      "[0, 0, 0, -1, 0, 0, 0, -1, -1, 1, 0, 1, 0, 1, 0, 0, 0, 0, 1, 0, 2, -1]\n",
      "[0, 0, 0, -1, 0, 0, 0, 0, -1, -1, 0, 1, 0, 1, 0, 0, 0, 0, 1, 0, 2, -1]\n",
      "[0, 0, 0, -1, 0, 0, 0, 0, -1, -1, 0, 1, 0, 0, 1, 0, 0, 0, 1, 0, 2, -1]\n",
      "[0, 0, 0, -1, 0, 0, 0, 0, -1, 0, 0, -1, 0, 0, 1, 0, 0, 0, 1, 0, 2, -1]\n",
      "[0, 0, 0, -1, 0, 0, 0, 0, -1, 0, 0, 0, -1, 0, 1, 0, 0, 0, 1, 0, 2, -1]\n",
      "[0, 0, 0, -1, 0, 0, 0, 0, -1, 0, 0, 0, -1, 0, 0, 0, 0, 0, 1, 0, 3, -1]\n",
      "[0, 0, 0, -1, 0, 0, 0, 0, -1, 0, 0, 0, -1, 0, 0, 0, 0, 0, 1, 0, 3, -2]\n",
      "[1, 0, 0, -1, 0, 0, 0, 0, -1, 0, 0, 0, -1, 0, 0, 0, 0, 0, 1, 0, 3, -2]\n",
      "[1, 0, 0, 0, 0, 0, 0, 0, -1, -1, 0, 0, -1, 0, 0, 0, 0, 0, 1, 0, 3, -2]\n",
      "[0, 0, 0, 0, 0, 0, 1, 0, -1, -1, 0, 0, -1, 0, 0, 0, 0, 0, 1, 0, 3, -2]\n",
      "[0, 0, 0, 0, 1, 0, 1, 0, -1, -1, 0, 0, -1, 0, 0, 0, 0, 0, 1, 0, 3, -2]\n",
      "[0, 0, 0, 0, 1, 0, 1, 0, -1, -1, 0, 0, -1, 0, 0, 0, 0, 0, 1, 0, 3, -2]\n",
      "[0, 0, 0, 0, 1, 0, 0, 0, -1, 1, 0, 0, -1, 0, 0, 0, 0, 0, 1, 0, 3, -2]\n",
      "[0, 0, 0, -1, 1, 0, 0, 0, -1, 1, 0, 0, -1, 0, 0, 0, 0, 0, 1, 0, 3, -2]\n",
      "[0, 0, 0, -1, 1, 0, 0, 0, -1, 0, 1, 0, -1, 0, 0, 0, 0, 0, 1, 0, 3, -2]\n",
      "[0, 0, 0, 0, 1, 0, 0, 0, -1, 0, 1, 0, -1, 0, 0, 0, 0, 0, 1, 0, 3, -2]\n",
      "[0, 0, 0, 0, 1, 0, 0, 0, -1, 0, 0, 0, -1, 1, 0, 0, 0, 0, 1, 0, 3, -2]\n",
      "[0, 0, 0, 0, 1, 0, 0, 0, 0, -1, 0, 0, -1, 1, 0, 0, 0, 0, 1, 0, 3, -2]\n",
      "[0, 0, 0, 0, 1, 0, 0, 0, 0, -1, 0, 0, -1, 0, 1, 0, 0, 0, 1, 0, 3, -2]\n",
      "[0, 0, 0, 0, 1, 0, 0, 0, 0, -1, 0, 0, 0, -1, 1, 0, 0, 0, 1, 0, 3, -2]\n",
      "[0, 0, 0, 0, 0, -1, 0, 0, 1, -1, 0, 0, 0, -1, 1, 0, 0, 0, 1, 0, 3, -2]\n",
      "[0, 0, 0, -1, 0, -1, 0, 0, 1, -1, 0, 0, 0, -1, 1, 0, 0, 0, 1, 0, 3, -2]\n",
      "[0, 0, 0, -1, 0, -1, 0, 0, 1, -1, 0, 0, 0, -1, 0, 0, 1, 0, 1, 0, 3, -2]\n",
      "[0, 0, 0, -1, 0, -1, 0, 0, 1, 0, 0, 0, -1, -1, 0, 0, 1, 0, 1, 0, 3, -2]\n",
      "[0, 0, 0, -1, 0, -1, 0, 0, 1, 0, 0, 0, -1, -1, 0, 0, 1, 0, 1, 0, 3, -2]\n",
      "[0, 0, 0, -1, 0, -1, 0, 0, 1, 0, 0, 0, -1, 0, 0, -1, 1, 0, 1, 0, 3, -2]\n",
      "[0, 0, 0, -1, 0, -1, 0, 0, 0, 0, 1, 0, -1, 0, 0, -1, 1, 0, 1, 0, 3, -2]\n",
      "[0, 0, 0, 0, 0, -1, 0, -1, 0, 0, 1, 0, -1, 0, 0, -1, 1, 0, 1, 0, 3, -2]\n",
      "[0, 0, 0, 0, 0, -1, 0, -1, 0, 0, 1, 0, -1, 0, 0, 0, 1, 0, 1, 0, 3, -3]\n",
      "[0, 0, 0, 0, 0, -1, 0, -1, 0, 0, 1, 0, -1, 0, 0, 0, 0, 0, 1, 0, 4, -3]\n",
      "[0, 0, 0, 0, 0, -1, 0, 0, 0, -1, 1, 0, -1, 0, 0, 0, 0, 0, 1, 0, 4, -3]\n",
      "[0, 0, 0, 0, 0, -1, 0, 0, 0, -1, 0, 1, -1, 0, 0, 0, 0, 0, 1, 0, 4, -3]\n",
      "[0, 0, 0, 0, 0, -1, 0, 0, 0, -1, 0, 0, -1, 1, 0, 0, 0, 0, 1, 0, 4, -3]\n",
      "[0, 0, 0, 0, 0, 0, 0, 0, -1, -1, 0, 0, -1, 1, 0, 0, 0, 0, 1, 0, 4, -3]\n",
      "[0, 0, 0, 0, 0, 0, 0, 0, -1, -1, 0, 0, -1, 1, 0, 0, 0, 0, 0, 0, 5, -3]\n",
      "[0, 0, 0, 0, 0, 0, 0, 0, -1, -1, 0, 0, 0, 1, 0, 0, 0, -1, 0, 0, 5, -3]\n",
      "[0, 0, 0, 0, 0, 0, 0, 0, -1, -1, 0, 0, 0, 0, 0, 1, 0, -1, 0, 0, 5, -3]\n",
      "[0, 0, 0, 0, 0, 0, 0, 0, -1, 0, 0, -1, 0, 0, 0, 1, 0, -1, 0, 0, 5, -3]\n",
      "[0, 0, 0, 0, 0, 0, 0, 0, -1, 0, 0, 0, 0, 0, -1, 1, 0, -1, 0, 0, 5, -3]\n",
      "[0, 0, 0, 0, 0, 0, 0, 0, -1, 0, 0, 0, 0, 0, -1, 0, 0, -1, 0, 0, 6, -3]\n"
     ]
    }
   ],
   "source": [
    "#human = HumanPlayer()\n",
    "rp1 = players.RandomPlayer()\n",
    "rp2 = players.RandomPlayer()\n",
    "dqp = players.DeepQPlayer(0.05)\n",
    "game = ur.Ur(qp1, rp2)\n",
    "game.start_board()\n",
    "#for i in range(100):\n",
    "while not game.is_ended():\n",
    "    game.player_move()\n",
    "    print(game.get_state_list(qp1))"
   ]
  },
  {
   "cell_type": "code",
   "execution_count": null,
   "metadata": {},
   "outputs": [],
   "source": []
  }
 ],
 "metadata": {
  "colab": {
   "collapsed_sections": [],
   "name": "ur.ipynb",
   "provenance": [],
   "version": "0.3.2"
  },
  "kernelspec": {
   "display_name": "Python 3",
   "language": "python",
   "name": "python3"
  },
  "language_info": {
   "codemirror_mode": {
    "name": "ipython",
    "version": 3
   },
   "file_extension": ".py",
   "mimetype": "text/x-python",
   "name": "python",
   "nbconvert_exporter": "python",
   "pygments_lexer": "ipython3",
   "version": "3.6.7"
  }
 },
 "nbformat": 4,
 "nbformat_minor": 2
}
